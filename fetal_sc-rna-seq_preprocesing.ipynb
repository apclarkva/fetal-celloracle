{
 "cells": [
  {
   "cell_type": "markdown",
   "id": "42051dc5-fd99-4071-b42b-b6ed0d604b91",
   "metadata": {
    "tags": []
   },
   "source": [
    "# Import libraries."
   ]
  },
  {
   "cell_type": "code",
   "execution_count": 6,
   "id": "167bb6d8-9bc9-44b2-802b-bed6406e9be4",
   "metadata": {
    "tags": []
   },
   "outputs": [],
   "source": [
    "import numpy as np\n",
    "import matplotlib.pyplot as plt \n",
    "import scanpy as sc\n",
    "import scvi\n",
    "import pandas as pd"
   ]
  },
  {
   "cell_type": "markdown",
   "id": "98237193-d75c-4bdb-acef-60ddffd119c1",
   "metadata": {
    "tags": []
   },
   "source": [
    "# Load data."
   ]
  },
  {
   "cell_type": "code",
   "execution_count": 7,
   "id": "f689f517-43c5-4fa5-b7c2-9db8761cc0c9",
   "metadata": {
    "tags": []
   },
   "outputs": [
    {
     "data": {
      "text/plain": [
       "View of AnnData object with n_obs × n_vars = 3748 × 2000\n",
       "    obs: 'nCount_RNA', 'nFeature_RNA', 'percent.mt', 'Sample', 'read_depth', 'new_manual_annotation', 'time', 'EXPT'\n",
       "    var: 'vst.mean', 'vst.variance', 'vst.variance.expected', 'vst.variance.standardized', 'vst.variable'\n",
       "    obsm: 'X_harmony', 'X_pca', 'X_umap'\n",
       "    varm: 'HARMONY', 'PCs'"
      ]
     },
     "execution_count": 7,
     "metadata": {},
     "output_type": "execute_result"
    }
   ],
   "source": [
    "full_adata = sc.read_h5ad('human_6_8_12and19_merged_final_cleaned.h5ad')\n",
    "cm_adata = full_adata[full_adata.obs.new_manual_annotation.isin(['Ventricular_myocytes', 'Atrial_myocytes'])]\n",
    "cm_adata"
   ]
  },
  {
   "cell_type": "code",
   "execution_count": 8,
   "id": "be26bbcb-b6b2-4de6-9a95-2ebed2a9f55d",
   "metadata": {
    "tags": []
   },
   "outputs": [
    {
     "data": {
      "text/plain": [
       "AnnData object with n_obs × n_vars = 3748 × 68120\n",
       "    obs: 'nCount_RNA', 'nFeature_RNA', 'percent.mt', 'Sample', 'read_depth', 'new_manual_annotation', 'time', 'EXPT'\n",
       "    var: 'vst.mean', 'vst.variance', 'vst.variance.expected', 'vst.variance.standardized', 'vst.variable'\n",
       "    obsm: 'X_harmony', 'X_pca', 'X_umap'"
      ]
     },
     "execution_count": 8,
     "metadata": {},
     "output_type": "execute_result"
    }
   ],
   "source": [
    "adata = cm_adata.raw.to_adata()\n",
    "adata"
   ]
  },
  {
   "cell_type": "markdown",
   "id": "4c5fff9e-b666-40f8-9a1a-99f564267bf5",
   "metadata": {
    "tags": []
   },
   "source": [
    "# Doublet removal."
   ]
  },
  {
   "cell_type": "code",
   "execution_count": 9,
   "id": "0ac67bcd-fb91-4154-9f6c-feaa237a2432",
   "metadata": {
    "tags": []
   },
   "outputs": [],
   "source": [
    "sc.pp.filter_genes(adata, min_cells = 10)"
   ]
  },
  {
   "cell_type": "code",
   "execution_count": 10,
   "id": "f5b6ac64-7fdf-420a-8d17-027e4e0bc208",
   "metadata": {
    "tags": []
   },
   "outputs": [],
   "source": [
    "adata.layers['raw'] = pd.DataFrame.sparse.from_spmatrix(adata.X)\n",
    "\n",
    "adata.layers['raw'].columns = adata.var.index\n",
    "adata.layers['raw'].index = adata.obs.index\n",
    "\n",
    "sc.pp.highly_variable_genes(adata=adata, n_top_genes = 3000, layer = 'raw', flavor = 'seurat')"
   ]
  },
  {
   "cell_type": "code",
   "execution_count": null,
   "id": "06064dba-6240-4d5a-b0a0-a6ca22d94cc7",
   "metadata": {
    "tags": []
   },
   "outputs": [],
   "source": [
    "scvi.model.SCVI.setup_anndata(adata)\n",
    "vae = scvi.model.SCVI(adata)\n",
    "vae.train()"
   ]
  },
  {
   "cell_type": "code",
   "execution_count": null,
   "id": "b0a79466-2de9-45b0-be23-9e099312645f",
   "metadata": {
    "tags": []
   },
   "outputs": [],
   "source": [
    "solo = scvi.external.SOLO.from_scvi_model(vae)\n",
    "solo.train()"
   ]
  },
  {
   "cell_type": "code",
   "execution_count": null,
   "id": "83a42c38-6340-4a2e-a9a1-68c330e786c2",
   "metadata": {
    "tags": []
   },
   "outputs": [],
   "source": [
    "df = solo.predict()\n",
    "df['prediction'] = solo.predict(soft = False)\n",
    "\n",
    "df.index = df.index.map(lambda x: x[:-2])\n",
    "\n",
    "df"
   ]
  },
  {
   "cell_type": "code",
   "execution_count": null,
   "id": "67522d95-c295-4072-bda0-034a920a4e10",
   "metadata": {
    "tags": []
   },
   "outputs": [],
   "source": [
    "df.groupby('prediction').count()"
   ]
  },
  {
   "cell_type": "markdown",
   "id": "d00c0532-8c79-4fbd-953e-73f1722a618c",
   "metadata": {},
   "source": [
    "There are only a few predicted doublets, so any doublets present will not have any significant impact on the outcomes of the model. Thus, doublets will not be filtered out."
   ]
  },
  {
   "cell_type": "markdown",
   "id": "11cbe834-a6d1-443f-a4b8-92be6dae46c2",
   "metadata": {
    "tags": []
   },
   "source": [
    "# Preprocessing"
   ]
  },
  {
   "cell_type": "code",
   "execution_count": 11,
   "id": "9397392e-08a6-40f8-a6e2-e8de3b70ce72",
   "metadata": {
    "tags": []
   },
   "outputs": [
    {
     "data": {
      "text/plain": [
       "AnnData object with n_obs × n_vars = 3748 × 15687\n",
       "    obs: 'nCount_RNA', 'nFeature_RNA', 'percent.mt', 'Sample', 'read_depth', 'new_manual_annotation', 'time', 'EXPT'\n",
       "    var: 'vst.mean', 'vst.variance', 'vst.variance.expected', 'vst.variance.standardized', 'vst.variable', 'n_cells', 'highly_variable', 'means', 'dispersions', 'dispersions_norm'\n",
       "    uns: 'hvg'\n",
       "    obsm: 'X_harmony', 'X_pca', 'X_umap'\n",
       "    layers: 'raw'"
      ]
     },
     "execution_count": 11,
     "metadata": {},
     "output_type": "execute_result"
    }
   ],
   "source": [
    "sc.pp.filter_genes(adata, min_cells = 5)\n",
    "adata"
   ]
  },
  {
   "cell_type": "code",
   "execution_count": 12,
   "id": "7db3254f-a9b7-4e62-afd4-f17e463b7667",
   "metadata": {
    "tags": []
   },
   "outputs": [
    {
     "data": {
      "text/plain": [
       "View of AnnData object with n_obs × n_vars = 3748 × 3000\n",
       "    obs: 'nCount_RNA', 'nFeature_RNA', 'percent.mt', 'Sample', 'read_depth', 'new_manual_annotation', 'time', 'EXPT'\n",
       "    var: 'vst.mean', 'vst.variance', 'vst.variance.expected', 'vst.variance.standardized', 'vst.variable', 'n_cells', 'highly_variable', 'means', 'dispersions', 'dispersions_norm'\n",
       "    uns: 'hvg'\n",
       "    obsm: 'X_harmony', 'X_pca', 'X_umap'\n",
       "    layers: 'raw'"
      ]
     },
     "execution_count": 12,
     "metadata": {},
     "output_type": "execute_result"
    }
   ],
   "source": [
    "adata = adata[:, adata.var.highly_variable]\n",
    "adata"
   ]
  },
  {
   "cell_type": "code",
   "execution_count": 13,
   "id": "ec726225-af0b-42aa-a169-2e157485fc1a",
   "metadata": {
    "tags": []
   },
   "outputs": [
    {
     "name": "stderr",
     "output_type": "stream",
     "text": [
      "/home/xqf2zp/.local/lib/python3.11/site-packages/anndata/_core/anndata.py:1301: ImplicitModificationWarning: Trying to modify attribute `.obs` of view, initializing view as actual.\n",
      "  df[key] = c\n",
      "/home/xqf2zp/.local/lib/python3.11/site-packages/anndata/_core/anndata.py:1301: ImplicitModificationWarning: Trying to modify attribute `.obs` of view, initializing view as actual.\n",
      "  df[key] = c\n",
      "/home/xqf2zp/.local/lib/python3.11/site-packages/anndata/_core/anndata.py:1301: ImplicitModificationWarning: Trying to modify attribute `.obs` of view, initializing view as actual.\n",
      "  df[key] = c\n"
     ]
    }
   ],
   "source": [
    "adata.write_h5ad('preprocessed_human_6_8_12and19_merged_final_cleaned.h5ad')"
   ]
  },
  {
   "cell_type": "code",
   "execution_count": null,
   "id": "fe5c1d65-1bda-4b81-a414-60d2badf158f",
   "metadata": {},
   "outputs": [],
   "source": []
  }
 ],
 "metadata": {
  "kernelspec": {
   "display_name": "Python 3 (ipykernel)",
   "language": "python",
   "name": "python3"
  },
  "language_info": {
   "codemirror_mode": {
    "name": "ipython",
    "version": 3
   },
   "file_extension": ".py",
   "mimetype": "text/x-python",
   "name": "python",
   "nbconvert_exporter": "python",
   "pygments_lexer": "ipython3",
   "version": "3.11.4"
  }
 },
 "nbformat": 4,
 "nbformat_minor": 5
}
